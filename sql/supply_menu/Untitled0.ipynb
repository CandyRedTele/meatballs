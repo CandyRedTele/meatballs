{
 "metadata": {
  "name": "",
  "signature": "sha256:cdb9ea7ab205a1a3186a571b95710d1742f100212780ad50d4454168aa8c25df"
 },
 "nbformat": 3,
 "nbformat_minor": 0,
 "worksheets": [
  {
   "cells": [
    {
     "cell_type": "code",
     "collapsed": false,
     "input": [
      "%run recipe_getter.py"
     ],
     "language": "python",
     "metadata": {},
     "outputs": [],
     "prompt_number": 1
    },
    {
     "cell_type": "code",
     "collapsed": false,
     "input": [
      "r = Recipe()"
     ],
     "language": "python",
     "metadata": {},
     "outputs": [],
     "prompt_number": 2
    },
    {
     "cell_type": "code",
     "collapsed": false,
     "input": [
      "d = r.create_dic()\n",
      "\n",
      "ingredients_name = [k[1] for i in d.itervalues()\n",
      "              for j in i.itervalues() for k in j['ingredients']]\n",
      "\n",
      "ingredients_name_set = []\n",
      "[ingredients_name_set.append(i) for i in ingredients_name if not ingredients_name_set.count(i)]\n",
      "\n",
      "ingredients_name_set\n",
      "skus = sample(range(10000, 49999), len(ingredients_name_set))\n",
      "ingredients_name = []\n",
      "for i, j in enumerate(ingredients_name_set):\n",
      "    ingredients_name.append((j, skus[i]))\n",
      "\n",
      "ingredients_name_dict = dict(ingredients_name)\n",
      "\n",
      "for i in d.itervalues():\n",
      "    for j in i.itervalues():\n",
      "        for k in j['ingredients']:\n",
      "            k.append(ingredients_name_dict[k[1]])\n",
      "\n",
      "# supply\n",
      "# ========\n",
      "# `sku`     INTEGER NOT NULL,\n",
      "# `name`    VARCHAR(85) NULL,\n",
      "# `type`    VARCHAR(45) NULL,\n",
      "# `price`   DOUBLE NULL,\n",
      "supply = []\n",
      "for k in ingredients_name:\n",
      "    supply.append([k[1], k[0], 'food', uniform(0.5, 13.9)])\n",
      "print len(supply)\n",
      "for i in other_supplies:\n",
      "    supply.append(i)\n",
      "\n",
      "# menu_item\n",
      "# ==========\n",
      "# `mitem_id` INTEGER PRIMARY KEY AUTO_INCREMENT,\n",
      "# `category` CHAR(45) NULL,\n",
      "# `price` DOUBLE NULL,\n",
      "# `name` VARCHAR(65) NULL,\n",
      "# `image` VARCHAR(95) NULL\n",
      "menu_item = []\n",
      "index = 1\n",
      "for category, i in d.iteritems():\n",
      "    for name, j in i.iteritems():\n",
      "        j.update({'id': index})\n",
      "        menu_item.append([index, category, j['price'], name])\n",
      "        index += 1\n",
      "\n",
      "# ingredients\n",
      "# ============\n",
      "# `mitem_id`   INTEGER REFERENCES meatballs.menu_item (mitem_id),\n",
      "# `sku`       INTEGER REFERENCES meatballs.ingredients (sku),\n",
      "# `amount`    VARCHAR(30) NULL,\n",
      "ingredients = [[j['id'], k[2], k[0]]\n",
      "               for i in d.itervalues()\n",
      "               for j in i.itervalues()\n",
      "               for k in j['ingredients']]\n",
      "\n",
      "# food\n",
      "# =====\n",
      "# `sku` INTEGER NOT NULL,\n",
      "# `capacity`  INTEGER  NOT NULL,\n",
      "# `days_till_expired` INT NOT NULL,\n",
      "# `perishable` BOOLEAN NULL,\n",
      "food = []\n",
      "count = 0\n",
      "for category, i in d.iteritems():\n",
      "    for j in i.itervalues():\n",
      "        for k in j['ingredients']:\n",
      "            if (category == \"wines\" or count % 5 == 0):\n",
      "                k.append(randint(45, 500))\n",
      "                k.append(0)  # refers to false\n",
      "            else:\n",
      "                k.append(randint(5, 45))\n",
      "                k.append(1)  # refers to true\n",
      "            count += 1\n",
      "            food.append([k[2], 100, k[3], k[4]])\n",
      "\n",
      "# menu\n",
      "# ======\n",
      "# `m_id` INTEGER NOT NULL,\n",
      "# `mitem_id` INTEGER NOT NULL,\n",
      "menus_kind = [menu_item[i::17] for i in xrange(17)]\n",
      "\n",
      "common_menus = [item for sublist in menus_kind[12:]\n",
      "                for item in sublist]\n",
      "specific_menus = menus_kind[:12]\n",
      "for i in specific_menus:\n",
      "    for j in common_menus:\n",
      "        i.append(j)\n",
      "menu = []\n",
      "for i, j in enumerate(specific_menus, start=1):\n",
      "    for k in j:\n",
      "        menu.append([i, k[0]])\n",
      "\n",
      "# wine\n",
      "# =====\n",
      "# `rate` DOUBLE NULL,\n",
      "# `mitem_id` INTEGER NULL,\n",
      "# PRIMARY KEY (mitem_id),\n",
      "wine_kind = [i[0] for i in menu_item if i[1] == 'wines']\n",
      "wine_rating = []\n",
      "for i in wine_kind:\n",
      "    wine_rating.append([uniform(6.5, 10), i])\n",
      "\n",
      "skus = sample(range(50000, 99999), len(other_supplies))\n",
      "for i, j in enumerate(other_supplies):\n",
      "    j.insert(0, skus[i])\n",
      "\n",
      "# `sku`       INTEGER NOT NULL,\n",
      "#  `f_id`      INTEGER NULL,\n",
      "#  `quantity`  INTEGER DEFAULT 0,\n",
      "facility_stock = []\n",
      "for j in menu:\n",
      "    ingre_menu_set = set()\n",
      "    for k in ingredients:\n",
      "        if j[1] == k[0]:\n",
      "            sku_ingre = k[1]\n",
      "            if sku_ingre not in ingre_menu_set:\n",
      "                ingre_menu_set.add(sku_ingre)\n",
      "                facility_stock.append([k[1], j[0], randint(15, 80)])\n",
      "\n",
      "# order\n",
      "# =======\n",
      "#  order_id    INTEGER PRIMARY KEY AUTO_INCREMENT,\n",
      "#  `f_id`      INTEGER NULL,\n",
      "#  `sku`       INTEGER NULL,\n",
      "#  `order_date` DATE NOT NULL,\n",
      "#  `order_qty` INTEGER NULL,                              \n",
      "def inFList(l, i):\n",
      "    return [x for x in l if x[1] == i]\n",
      "\n",
      "order = []\n",
      "for i in xrange(1, 13):\n",
      "    ingre_per_f = inFList(facility_stock, i)\n",
      "    for j in xrange(8):\n",
      "        date_order = date.today()-timedelta(days=randrange(0,10))\n",
      "        date_order = date_order.isoformat()\n",
      "        pick = ingre_per_f[randint(0, len(ingre_per_f)-1)]\n",
      "        order.append([pick[1], pick[0], date_order, (80 - pick[2])+1])\n",
      "\n",
      "# vendor\n",
      "# ========\n",
      "# `vendor_id`     INTEGER PRIMARY KEY,\n",
      "# `company_name`  VARCHAR(45) NULL,\n",
      "# `address`       VARCHAR(45) NULL\n",
      "vendor = []\n",
      "for i, j in enumerate(vendors, start=1):\n",
      "    vendor.append([i, j[0], j[1]])\n",
      "    j.insert(0, i)\n",
      "    \n",
      "# catalog \n",
      "# =========\n",
      "# `vendor_id`     INTEGER NOT NULL REFERENCES meatballs.vendor (vendor_id), \n",
      "# `sku`           INTEGER NOT NULL REFERENCES meatballs.supplies (sku),   \n",
      "acatalog = []\n",
      "food_vendors = [ven for ven in vendors if ven[3] == 'food']\n",
      "\n",
      "for i in ingredients_name:\n",
      "    x = randrange(0, len(food_vendors))\n",
      "    acatalog.append([food_vendors[x][0], i[1]])\n",
      "\n",
      "linens_vendors = [ven for ven in vendors if ven[3] == 'linens']\n",
      "kitchen_vendors = [ven for ven in vendors if ven[3] == 'kitchen supplies']\n",
      "serving_vendors = [ven for ven in vendors if ven[3] == 'serving items']\n",
      "for i in other_supplies:\n",
      "    if i[2] == 'linens':\n",
      "        acatalog.append([linens_vendors[randrange(0, len(linens_vendors))][0], i[0]])\n",
      "    elif i[2] == 'kitchen supplies':\n",
      "        acatalog.append([kitchen_vendors[randrange(0, len(kitchen_vendors))][0], i[0]])\n",
      "    elif i[2] == 'serving items':\n",
      "        acatalog.append([serving_vendors[randrange(0, len(serving_vendors))][0], i[0]])\n",
      "\n",
      "#  facilityBalance\n",
      "# =================\n",
      "#  f_id        INTEGER NOT NULL PRIMARY KEY,\n",
      "# `balance`    INTEGER NOT NULL,\n",
      "facility_balance = []\n",
      "for f_id in xrange(1, 13):\n",
      "    facility_balance.append([f_id, randint(800, 1200)])\n",
      "\n"
     ],
     "language": "python",
     "metadata": {},
     "outputs": [
      {
       "output_type": "stream",
       "stream": "stdout",
       "text": [
        "350\n"
       ]
      }
     ],
     "prompt_number": 3
    },
    {
     "cell_type": "code",
     "collapsed": false,
     "input": [
      "facility_balance"
     ],
     "language": "python",
     "metadata": {},
     "outputs": [
      {
       "metadata": {},
       "output_type": "pyout",
       "prompt_number": 4,
       "text": [
        "[[1, 925],\n",
        " [2, 835],\n",
        " [3, 1149],\n",
        " [4, 909],\n",
        " [5, 1002],\n",
        " [6, 1186],\n",
        " [7, 1078],\n",
        " [8, 846],\n",
        " [9, 1013],\n",
        " [10, 821],\n",
        " [11, 1069],\n",
        " [12, 1191]]"
       ]
      }
     ],
     "prompt_number": 4
    },
    {
     "cell_type": "code",
     "collapsed": false,
     "input": [
      "# now = datetime.datetime.now().strftime('%Y-%m-%d')\n",
      "# facility_stock = []\n",
      "# for j in menu:\n",
      "\n",
      "#     for k in ingredients:\n",
      "        \n",
      "#         if j[1] == k[0]:\n",
      "#             facility_stock.append([randint(5, 100), now, k[1], j[0]])\n"
     ],
     "language": "python",
     "metadata": {},
     "outputs": [],
     "prompt_number": 62
    },
    {
     "cell_type": "code",
     "collapsed": false,
     "input": [],
     "language": "python",
     "metadata": {},
     "outputs": [],
     "prompt_number": 62
    },
    {
     "cell_type": "code",
     "collapsed": false,
     "input": [
      "from urlparse import urlparse\n",
      "from lxml import html\n",
      "import requests\n",
      "import json\n",
      "import datetime\n",
      "from os.path import isfile\n",
      "from random import randint, sample, uniform, randrange\n"
     ],
     "language": "python",
     "metadata": {},
     "outputs": [],
     "prompt_number": 22
    },
    {
     "cell_type": "code",
     "collapsed": false,
     "input": [
      "url = \"http://hangryingreedytest.herokuapp.com/?recipe_url=http://allrecipes.com/Recipe/Chicken-Pot-Pie-IX/Detail.aspx?evt19=1\""
     ],
     "language": "python",
     "metadata": {},
     "outputs": [],
     "prompt_number": 23
    },
    {
     "cell_type": "code",
     "collapsed": false,
     "input": [
      "response = requests.get(url).text\n",
      "tree = html.fromstring(response)"
     ],
     "language": "python",
     "metadata": {},
     "outputs": [],
     "prompt_number": 24
    },
    {
     "cell_type": "code",
     "collapsed": false,
     "input": [
      "h = tree.xpath('//table[1]//tr[5]/td[2]')[0].text"
     ],
     "language": "python",
     "metadata": {},
     "outputs": [],
     "prompt_number": 25
    },
    {
     "cell_type": "code",
     "collapsed": false,
     "input": [
      "h"
     ],
     "language": "python",
     "metadata": {},
     "outputs": [
      {
       "metadata": {},
       "output_type": "pyout",
       "prompt_number": 26,
       "text": [
        "'http://images.media-allrecipes.com/userphotos/250x250/00/14/23/142350.jpg'"
       ]
      }
     ],
     "prompt_number": 26
    },
    {
     "cell_type": "code",
     "collapsed": false,
     "input": [
      "from sets import Set\n",
      "table = tree.xpath('//table[2]')[0]\n",
      "amounts = []\n",
      "ingre_names = []\n",
      "\n",
      "for row in table[1:]:\n",
      "    if not ingre_names.count(row[3].text.replace(\"'\", \"\")):\n",
      "        ingre_names.append(row[3].text.replace(\"'\", \"\"))\n",
      "        amounts.append([float(row[1].text), row[3].text.replace(\"'\", \"\")])\n",
      "\n",
      "# for row in table[1:]:\n",
      "#     print row\n",
      "# #     [noDupes.append(i) for i in seq if not noDupes.count(i)]\n",
      "#     ingre_name = row[3].text.replace(\"'\", \"\")\n",
      "#     amounts.append([float(row[1].text), ingre_name])\n",
      "# he = Set(amounts)\n",
      "# amounts = list(he)"
     ],
     "language": "python",
     "metadata": {},
     "outputs": [
      {
       "metadata": {},
       "output_type": "pyout",
       "prompt_number": 50,
       "text": [
        "[[1.0, 'skinless, boneless chicken breast halves - cubed'],\n",
        " [1.0, 'sliced carrots'],\n",
        " [1.0, 'frozen green peas'],\n",
        " [0.5, 'sliced celery'],\n",
        " [0.3333333333333333, 'butter'],\n",
        " [0.3333333333333333, 'chopped onion'],\n",
        " [0.3333333333333333, 'all-purpose flour'],\n",
        " [0.5, 'salt'],\n",
        " [0.25, 'black pepper'],\n",
        " [0.25, 'celery seed'],\n",
        " [1.75, 'chicken broth'],\n",
        " [0.6666666666666666, 'milk'],\n",
        " [18.0, 'unbaked pie crusts']]"
       ]
      }
     ],
     "prompt_number": 50
    },
    {
     "cell_type": "code",
     "collapsed": false,
     "input": [
      "\n"
     ],
     "language": "python",
     "metadata": {},
     "outputs": [],
     "prompt_number": 25
    },
    {
     "cell_type": "code",
     "collapsed": false,
     "input": [],
     "language": "python",
     "metadata": {},
     "outputs": []
    },
    {
     "cell_type": "code",
     "collapsed": false,
     "input": [
      "d = datetime.date(2014, 8, 15)"
     ],
     "language": "python",
     "metadata": {},
     "outputs": [],
     "prompt_number": 29
    },
    {
     "cell_type": "code",
     "collapsed": false,
     "input": [
      "d.isoformat()"
     ],
     "language": "python",
     "metadata": {},
     "outputs": [
      {
       "metadata": {},
       "output_type": "pyout",
       "prompt_number": 30,
       "text": [
        "'2014-08-15'"
       ]
      }
     ],
     "prompt_number": 30
    },
    {
     "cell_type": "code",
     "collapsed": false,
     "input": [],
     "language": "python",
     "metadata": {},
     "outputs": [
      {
       "metadata": {},
       "output_type": "pyout",
       "prompt_number": 36,
       "text": [
        "'2014-08-03'"
       ]
      }
     ],
     "prompt_number": 36
    },
    {
     "cell_type": "code",
     "collapsed": false,
     "input": [
      "for i in xrange(3):\n",
      "    forl"
     ],
     "language": "python",
     "metadata": {},
     "outputs": []
    },
    {
     "cell_type": "code",
     "collapsed": false,
     "input": [
      "s = '12.3'"
     ],
     "language": "python",
     "metadata": {},
     "outputs": [],
     "prompt_number": 1
    },
    {
     "cell_type": "code",
     "collapsed": false,
     "input": [
      "from math import ceil"
     ],
     "language": "python",
     "metadata": {},
     "outputs": [],
     "prompt_number": 2
    },
    {
     "cell_type": "code",
     "collapsed": false,
     "input": [
      "int(ceil(float(s)))"
     ],
     "language": "python",
     "metadata": {},
     "outputs": [
      {
       "metadata": {},
       "output_type": "pyout",
       "prompt_number": 5,
       "text": [
        "13"
       ]
      }
     ],
     "prompt_number": 5
    },
    {
     "cell_type": "code",
     "collapsed": false,
     "input": [],
     "language": "python",
     "metadata": {},
     "outputs": []
    }
   ],
   "metadata": {}
  }
 ]
}